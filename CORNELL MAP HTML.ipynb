{
 "cells": [
  {
   "cell_type": "code",
   "execution_count": 13,
   "metadata": {},
   "outputs": [
    {
     "data": {
      "text/plain": [
       "'/Users/jialichen'"
      ]
     },
     "execution_count": 13,
     "metadata": {},
     "output_type": "execute_result"
    }
   ],
   "source": [
    "import os\n",
    "os.getcwd()"
   ]
  },
  {
   "cell_type": "code",
   "execution_count": 14,
   "metadata": {},
   "outputs": [],
   "source": [
    "os.chdir('/')"
   ]
  },
  {
   "cell_type": "code",
   "execution_count": 15,
   "metadata": {},
   "outputs": [
    {
     "data": {
      "text/plain": [
       "'/'"
      ]
     },
     "execution_count": 15,
     "metadata": {},
     "output_type": "execute_result"
    }
   ],
   "source": [
    "os.getcwd()"
   ]
  },
  {
   "cell_type": "code",
   "execution_count": 18,
   "metadata": {},
   "outputs": [],
   "source": [
    "os.chdir('/Users/jialichen/Desktop/hackathon_site/testmap')"
   ]
  },
  {
   "cell_type": "code",
   "execution_count": 19,
   "metadata": {},
   "outputs": [],
   "source": [
    "from flask import Flask\n",
    "import folium \n",
    "import pandas\n",
    "\n",
    "app = Flask(__name__)\n",
    "data=pandas.read_csv('Benches_Coordinates.csv')\n",
    "\n",
    "LAT=list(data['Latitude'])\n",
    "LON=list(data['Longitude'])\n",
    "name=list(data['Name'])\n",
    "start_coords = [42.447285, -76.484052]\n",
    "# capacity=list(data['capacity'])\n",
    "website=list(data['Website'])\n",
    "# picture=list(data['picture'])\n",
    "\n",
    "fg=folium.Map(location=start_coords, zoom_start=17)\n",
    "# fg.add_child(folium.GeoJson(data=(open('india_states.json','r',encoding='utf-8-sig').read())))\n",
    "\n",
    "\n",
    " \n",
    "for lt,ln,nm,ws in zip(LAT,LON,name,website):\n",
    " \tfg.add_child(folium.Marker(location=[lt,ln],popup=\"<b>Name  : </b>\"+nm + \"<br><b>Directions: </b><a href=\"+ws+\">click here</a>\",icon=folium.Icon(color='green')))\n",
    "\n",
    "\n",
    "# @app.route('/')\n",
    "# def index():\n",
    "\n",
    "#     return fg._repr_html_()\n",
    "\n",
    "\n",
    "\n",
    "# if __name__ == '__main__':\n",
    "#     app.run(debug=True)\n",
    "\n",
    "fg.save('testmap1.html')"
   ]
  },
  {
   "cell_type": "code",
   "execution_count": null,
   "metadata": {},
   "outputs": [],
   "source": []
  }
 ],
 "metadata": {
  "kernelspec": {
   "display_name": "Python 3",
   "language": "python",
   "name": "python3"
  },
  "language_info": {
   "codemirror_mode": {
    "name": "ipython",
    "version": 3
   },
   "file_extension": ".py",
   "mimetype": "text/x-python",
   "name": "python",
   "nbconvert_exporter": "python",
   "pygments_lexer": "ipython3",
   "version": "3.6.5"
  }
 },
 "nbformat": 4,
 "nbformat_minor": 2
}
